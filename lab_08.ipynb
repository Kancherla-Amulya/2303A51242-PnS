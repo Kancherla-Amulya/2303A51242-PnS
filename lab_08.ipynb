{
  "nbformat": 4,
  "nbformat_minor": 0,
  "metadata": {
    "colab": {
      "provenance": [],
      "authorship_tag": "ABX9TyOn0reWeMBSBNg9S+UGs2fT",
      "include_colab_link": true
    },
    "kernelspec": {
      "name": "python3",
      "display_name": "Python 3"
    },
    "language_info": {
      "name": "python"
    }
  },
  "cells": [
    {
      "cell_type": "markdown",
      "metadata": {
        "id": "view-in-github",
        "colab_type": "text"
      },
      "source": [
        "<a href=\"https://colab.research.google.com/github/Kancherla-Amulya/2303A51242-PnS/blob/main/lab_08.ipynb\" target=\"_parent\"><img src=\"https://colab.research.google.com/assets/colab-badge.svg\" alt=\"Open In Colab\"/></a>"
      ]
    },
    {
      "cell_type": "markdown",
      "source": [
        "A housing survey in Hanamkonda suggests that the average monthly rent for a standard room is claimed to be ₹10,000. The local real estate agency wants to verify this claim and determine whether the average room rent is significantly different from ₹10,000. A sample of room rents from 17 different locations in Hanamkonda has been collected as [8800, 10000, 7000, 9900, 9950, 8200, 10100, 9000, 9700, 10800, 10000, 10250, 10300, 9900, 4000, 6000, 6500] You are tasked with testing the hypothesis regarding the average rent price. Your tasks include:\n",
        "\n",
        "Computing the sample mean and standard deviation\n",
        "Calculating the 95% confidence interval for the sample mean.\n",
        "Using the confidence interval to assess the hypothesis test."
      ],
      "metadata": {
        "id": "TcCOp80GQlSl"
      }
    },
    {
      "cell_type": "code",
      "source": [
        "import math\n",
        "\n",
        "# Sample data\n",
        "data = [8800, 10000, 7000, 9900, 9950, 8200, 10100, 9000, 9700,\n",
        "        10800, 10000, 10250, 10300, 9900, 4000, 6000, 6500]\n",
        "\n",
        "# Step 1: Calculate the sample mean\n",
        "sample_mean = sum(data) / len(data)\n",
        "\n",
        "# Step 2: Calculate the squared differences from the mean\n",
        "squared_differences = [(x - sample_mean) ** 2 for x in data]\n",
        "\n",
        "# Step 3: Calculate the variance (divide by n-1 for sample standard deviation)\n",
        "sample_variance = sum(squared_differences) / (len(data) - 1)\n",
        "\n",
        "# Step 4: Calculate the standard deviation (square root of variance)\n",
        "sample_std_dev = math.sqrt(sample_variance)\n",
        "\n",
        "# Print the result\n",
        "print(f\"Sample Mean: {sample_mean:.2f}\")\n",
        "print(f\"Sample Variance: {sample_variance:.2f}\")\n",
        "print(f\"Sample Standard Deviation: {sample_std_dev:.2f}\")"
      ],
      "metadata": {
        "colab": {
          "base_uri": "https://localhost:8080/"
        },
        "id": "QqBe93nNStkh",
        "outputId": "ac730cf2-ef0a-4ea4-d13c-2aa99e609190"
      },
      "execution_count": 6,
      "outputs": [
        {
          "output_type": "stream",
          "name": "stdout",
          "text": [
            "Sample Mean: 8847.06\n",
            "Sample Variance: 3577959.56\n",
            "Sample Standard Deviation: 1891.55\n"
          ]
        }
      ]
    }
  ]
}