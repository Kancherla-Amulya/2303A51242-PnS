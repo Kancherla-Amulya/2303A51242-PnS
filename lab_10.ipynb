{
  "nbformat": 4,
  "nbformat_minor": 0,
  "metadata": {
    "colab": {
      "provenance": [],
      "authorship_tag": "ABX9TyMhEYrtKSiQdmZI7Oj3rlkJ",
      "include_colab_link": true
    },
    "kernelspec": {
      "name": "python3",
      "display_name": "Python 3"
    },
    "language_info": {
      "name": "python"
    }
  },
  "cells": [
    {
      "cell_type": "markdown",
      "metadata": {
        "id": "view-in-github",
        "colab_type": "text"
      },
      "source": [
        "<a href=\"https://colab.research.google.com/github/Kancherla-Amulya/2303A51242-PnS/blob/main/lab_10.ipynb\" target=\"_parent\"><img src=\"https://colab.research.google.com/assets/colab-badge.svg\" alt=\"Open In Colab\"/></a>"
      ]
    },
    {
      "cell_type": "markdown",
      "source": [
        "A coffee shop claims that the average time it takes for customers to receive their orders is 10 minutes. A researcher wants to test this claim by taking a sample of 12 customers and measuring how long each one waits for their order. The researcher collects the following data for the sample of 12 customers (in minutes): Sample data (waiting time in minutes): 11, 9, 10, 12, 8, 7, 13, 11, 10, 9, 8, 10"
      ],
      "metadata": {
        "id": "IN2sGD9ChfPw"
      }
    },
    {
      "cell_type": "code",
      "execution_count": 1,
      "metadata": {
        "id": "QfyL6JimheWS"
      },
      "outputs": [],
      "source": [
        "import numpy as np\n",
        "from scipy import stats"
      ]
    },
    {
      "cell_type": "code",
      "source": [
        "data = [11, 9, 10, 12, 8, 7, 13, 11, 10, 9, 8, 10]"
      ],
      "metadata": {
        "id": "VpnCpcd9h3Oo"
      },
      "execution_count": 2,
      "outputs": []
    },
    {
      "cell_type": "code",
      "source": [
        "mu_0 = 10"
      ],
      "metadata": {
        "id": "dsrjQlWZkZty"
      },
      "execution_count": 5,
      "outputs": []
    },
    {
      "cell_type": "code",
      "source": [
        "sample_mean = np.mean(data)\n",
        "sample_std = np.std(data, ddof=1)\n",
        "n = len(data)\n",
        "df = n - 1"
      ],
      "metadata": {
        "id": "M8hupopKh9lL"
      },
      "execution_count": 3,
      "outputs": []
    },
    {
      "cell_type": "code",
      "source": [
        "t_stat = (sample_mean - mu_0) / (sample_std / np.sqrt(n))"
      ],
      "metadata": {
        "id": "MBVRg-ONh_KJ"
      },
      "execution_count": 6,
      "outputs": []
    },
    {
      "cell_type": "code",
      "source": [
        "p_value = 2 * stats.t.cdf(t_stat, df)"
      ],
      "metadata": {
        "id": "voQYfmpzkrFB"
      },
      "execution_count": 7,
      "outputs": []
    },
    {
      "cell_type": "code",
      "source": [
        "print(f\"Sample Mean: {sample_mean:.2f}\")\n",
        "print(f\"Sample Standard Deviation: {sample_std:.2f}\")\n",
        "print(f\"T-Statistic: {t_stat:.2f}\")\n",
        "print(f\"P-Value: {p_value:.3f}\")"
      ],
      "metadata": {
        "colab": {
          "base_uri": "https://localhost:8080/"
        },
        "id": "TL0oXrKikut6",
        "outputId": "8e1dbcdb-cfbd-40b8-8935-cc21ed02d68f"
      },
      "execution_count": 8,
      "outputs": [
        {
          "output_type": "stream",
          "name": "stdout",
          "text": [
            "Sample Mean: 9.83\n",
            "Sample Standard Deviation: 1.75\n",
            "T-Statistic: -0.33\n",
            "P-Value: 0.748\n"
          ]
        }
      ]
    },
    {
      "cell_type": "code",
      "source": [
        "alpha = 0.05\n",
        "if p_value < alpha:\n",
        "    print(\"Reject the null hypothesis: There is a significant difference from 10 minutes.\")\n",
        "else:\n",
        "    print(\"Fail to reject the null hypothesis: No significant difference from 10 minutes.\")"
      ],
      "metadata": {
        "colab": {
          "base_uri": "https://localhost:8080/"
        },
        "id": "FwXSQXqdkwMG",
        "outputId": "5f639818-b65c-4416-eff4-133c42576cc5"
      },
      "execution_count": 9,
      "outputs": [
        {
          "output_type": "stream",
          "name": "stdout",
          "text": [
            "Fail to reject the null hypothesis: No significant difference from 10 minutes.\n"
          ]
        }
      ]
    }
  ]
}