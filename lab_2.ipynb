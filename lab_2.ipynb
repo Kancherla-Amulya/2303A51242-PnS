{
  "nbformat": 4,
  "nbformat_minor": 0,
  "metadata": {
    "colab": {
      "provenance": [],
      "authorship_tag": "ABX9TyNmtt95UAO6AGalIP2C8v0/",
      "include_colab_link": true
    },
    "kernelspec": {
      "name": "python3",
      "display_name": "Python 3"
    },
    "language_info": {
      "name": "python"
    }
  },
  "cells": [
    {
      "cell_type": "markdown",
      "metadata": {
        "id": "view-in-github",
        "colab_type": "text"
      },
      "source": [
        "<a href=\"https://colab.research.google.com/github/Kancherla-Amulya/2303A51242-PnS/blob/main/lab_2.ipynb\" target=\"_parent\"><img src=\"https://colab.research.google.com/assets/colab-badge.svg\" alt=\"Open In Colab\"/></a>"
      ]
    },
    {
      "cell_type": "markdown",
      "source": [
        "The dataset below represents the ages of 500 people in a city:\n",
        "Data (Ages):\n",
        "Data: [45, 67, 89, 23, 45, 67, 89, 34, 56, 78, 90, 21, 45, 67, 89, 23, 45,\n",
        "56, 78, 34, 23, 45, 67, 89, 45, 67, 89, 12, 34, 56, 78, 90, 23, 45,\n",
        "67, 12, 34, 78, 45, 67, 89, 34, 56, 78, 90, 23, 56, 78, 89, 45, 12,\n",
        "67, 45, 78, 23, 45, 67, 89, 34, 45, 23, 78, 67, 89, 45, 67, 89, 12,\n",
        "34, 56, 78, 90, 23, 12, 34, 56, 78, 23, 45, 67, 89, 34, 45, 23, 45,\n",
        "67, 89, 12, 34, 56, 78, 90, 45, 23].\n",
        "• Use numpy and pandas to calculate the median and mode of the dataset.\n",
        "• Comment on the efficiency of your approach.\n",
        "\n"
      ],
      "metadata": {
        "id": "IK0w9WKJB3d-"
      }
    },
    {
      "cell_type": "code",
      "source": [
        "import numpy as np\n"
      ],
      "metadata": {
        "id": "TGAd9mgAB98J"
      },
      "execution_count": 2,
      "outputs": []
    },
    {
      "cell_type": "code",
      "source": [
        "Data= [45, 67, 89, 23, 45, 67, 89, 34, 56, 78, 90, 21, 45, 67, 89, 23, 45, 56, 78, 34, 23, 45, 67, 89, 45, 67, 89, 12, 34, 56, 78, 90, 23, 45, 67, 12, 34, 78, 45, 67, 89, 34, 56, 78, 90, 23, 56, 78, 89, 45, 12, 67, 45, 78, 23, 45, 67, 89, 34, 45, 23, 78, 67, 89, 45, 67, 89, 12, 34, 56, 78, 90, 23, 12, 34, 56, 78, 23, 45, 67, 89, 34, 45, 23, 45, 67, 89, 12, 34, 56, 78, 90, 45, 23]"
      ],
      "metadata": {
        "id": "GfVnmsskCahx"
      },
      "execution_count": 4,
      "outputs": []
    },
    {
      "cell_type": "code",
      "source": [
        "sum(Data)"
      ],
      "metadata": {
        "colab": {
          "base_uri": "https://localhost:8080/"
        },
        "id": "yOjWhAdQCrIw",
        "outputId": "c5956869-ef93-45be-dcf2-9087e6ce3db0"
      },
      "execution_count": 6,
      "outputs": [
        {
          "output_type": "execute_result",
          "data": {
            "text/plain": [
              "5146"
            ]
          },
          "metadata": {},
          "execution_count": 6
        }
      ]
    },
    {
      "cell_type": "code",
      "source": [
        "len(Data)"
      ],
      "metadata": {
        "colab": {
          "base_uri": "https://localhost:8080/"
        },
        "id": "juJDYOPyC26S",
        "outputId": "a6453c08-1472-4929-fe2e-4c10c4913a3a"
      },
      "execution_count": 8,
      "outputs": [
        {
          "output_type": "execute_result",
          "data": {
            "text/plain": [
              "94"
            ]
          },
          "metadata": {},
          "execution_count": 8
        }
      ]
    },
    {
      "cell_type": "code",
      "source": [
        "mean=sum(Data)/len(Data)"
      ],
      "metadata": {
        "id": "fSY1Kf-2C9Ol"
      },
      "execution_count": 9,
      "outputs": []
    },
    {
      "cell_type": "code",
      "source": [
        "print(mean)"
      ],
      "metadata": {
        "colab": {
          "base_uri": "https://localhost:8080/"
        },
        "id": "XOk6a_ByDKkR",
        "outputId": "b4f4068b-9ed6-42bd-89b8-fd6c2ecc6dfb"
      },
      "execution_count": 10,
      "outputs": [
        {
          "output_type": "stream",
          "name": "stdout",
          "text": [
            "54.744680851063826\n"
          ]
        }
      ]
    },
    {
      "cell_type": "markdown",
      "source": [
        "Question 2: Grouped Data\n",
        "The table below represents the scores of 2000 students in an exam and their corresponding\n",
        "frequencies:\n",
        "Scores (X): [10, 20, 30, 40, 50, 60, 70, 80, 90, 100]\n",
        "Frequency (F): [200, 350, 400, 300, 250, 200, 150, 80, 50, 20]\n",
        "• Use pandas to calculate the median and mode of this grouped data.\n",
        "• Write a Python function to handle grouped data calculations efficiently for large\n",
        "datasets.\n",
        "1\n"
      ],
      "metadata": {
        "id": "yZVxw7JbDsjS"
      }
    },
    {
      "cell_type": "code",
      "source": [
        "Scores= [10, 20, 30, 40, 50, 60, 70, 80, 90, 100]\n"
      ],
      "metadata": {
        "id": "N6Wd4BB6Dxgm"
      },
      "execution_count": 12,
      "outputs": []
    },
    {
      "cell_type": "code",
      "source": [
        " Frequency= [200, 350, 400, 300, 250, 200, 150, 80, 50, 20]\n"
      ],
      "metadata": {
        "id": "c_gBn-unEJ6U"
      },
      "execution_count": 11,
      "outputs": []
    },
    {
      "cell_type": "code",
      "source": [
        "sum_fx=sum(Frequency*Scores for Frequency,Scores in zip(Frequency,Scores))"
      ],
      "metadata": {
        "id": "Ut5oMTweEfFt"
      },
      "execution_count": 13,
      "outputs": []
    },
    {
      "cell_type": "code",
      "source": [
        "sum_f=sum(Frequency)"
      ],
      "metadata": {
        "id": "-QKmubzFGAMQ"
      },
      "execution_count": 14,
      "outputs": []
    },
    {
      "cell_type": "code",
      "source": [
        "mean=sum_fx/sum_f"
      ],
      "metadata": {
        "id": "iaiZeWuRGHVA"
      },
      "execution_count": 15,
      "outputs": []
    },
    {
      "cell_type": "code",
      "source": [
        "print(mean)"
      ],
      "metadata": {
        "colab": {
          "base_uri": "https://localhost:8080/"
        },
        "id": "pehdnOMxGLqZ",
        "outputId": "157e0196-b648-479f-fe3e-1b12364d4462"
      },
      "execution_count": 16,
      "outputs": [
        {
          "output_type": "stream",
          "name": "stdout",
          "text": [
            "40.45\n"
          ]
        }
      ]
    },
    {
      "cell_type": "markdown",
      "source": [
        "Question 3: Grouped Data with Class Intervals\n",
        "The following table shows the income distribution of 1000 households (in $1000s):\n",
        "Income Range (Class Interval) Frequency\n",
        "#0 − 20-50\n",
        "#20 − 40-120\n",
        "#40 − 60-200\n",
        "#60 − 80-300\n",
        "#80 − 100-220\n",
        "#100 − 120-70\n",
        "#120 − 140-40\n",
        "• Use Python to calculate the median and mode for the grouped data.\n",
        "• For mode, determine the modal class.\n",
        "\n"
      ],
      "metadata": {
        "id": "EWnv69jsGWYo"
      }
    },
    {
      "cell_type": "code",
      "source": [
        "Income_Range=[(0,20),(20,40),(40,60),(60,80),(80,100),(100,120),(120,140)]\n",
        "Frequency=[50,120,200,300,220,70,40]"
      ],
      "metadata": {
        "id": "9K8MYVChGYeC"
      },
      "execution_count": 17,
      "outputs": []
    },
    {
      "cell_type": "code",
      "source": [
        "midpoints=[(start+end)/2 for start,end in Income_Range]"
      ],
      "metadata": {
        "id": "fqx2Ue9kIH5_"
      },
      "execution_count": 18,
      "outputs": []
    },
    {
      "cell_type": "code",
      "source": [
        "sum_fx=sum(Frequency*midpoints for Frequency,midpoints in zip(Frequency,midpoints))"
      ],
      "metadata": {
        "id": "Zj9gDA8GINrN"
      },
      "execution_count": 19,
      "outputs": []
    },
    {
      "cell_type": "code",
      "source": [
        "mean=sum_fx/sum(Frequency)"
      ],
      "metadata": {
        "id": "8S9aYAQ5ISqz"
      },
      "execution_count": 20,
      "outputs": []
    },
    {
      "cell_type": "code",
      "source": [
        "print(mean)"
      ],
      "metadata": {
        "colab": {
          "base_uri": "https://localhost:8080/"
        },
        "id": "jgAWMO3eIaLG",
        "outputId": "991d414b-6ccd-42cd-bfc1-1c62b1da2d09"
      },
      "execution_count": 21,
      "outputs": [
        {
          "output_type": "stream",
          "name": "stdout",
          "text": [
            "67.8\n"
          ]
        }
      ]
    }
  ]
}