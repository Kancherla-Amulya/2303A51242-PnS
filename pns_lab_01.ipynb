{
  "nbformat": 4,
  "nbformat_minor": 0,
  "metadata": {
    "colab": {
      "provenance": [],
      "authorship_tag": "ABX9TyNbQkVfex1nof+tBdqXwi7G",
      "include_colab_link": true
    },
    "kernelspec": {
      "name": "python3",
      "display_name": "Python 3"
    },
    "language_info": {
      "name": "python"
    }
  },
  "cells": [
    {
      "cell_type": "markdown",
      "metadata": {
        "id": "view-in-github",
        "colab_type": "text"
      },
      "source": [
        "<a href=\"https://colab.research.google.com/github/Kancherla-Amulya/2303A51242-PnS/blob/main/pns_lab_01.ipynb\" target=\"_parent\"><img src=\"https://colab.research.google.com/assets/colab-badge.svg\" alt=\"Open In Colab\"/></a>"
      ]
    },
    {
      "cell_type": "markdown",
      "source": [],
      "metadata": {
        "id": "h3X7s9VL1m4u"
      }
    },
    {
      "cell_type": "markdown",
      "source": [
        "##Import Numpy Library\n"
      ],
      "metadata": {
        "id": "z9DjR6cO1oxF"
      }
    },
    {
      "cell_type": "code",
      "source": [
        "import numpy as np\n"
      ],
      "metadata": {
        "id": "Vbba6uWC11oy"
      },
      "execution_count": 1,
      "outputs": []
    },
    {
      "cell_type": "markdown",
      "source": [
        "##Create an array :\n"
      ],
      "metadata": {
        "id": "m10YRXmS2N_2"
      }
    },
    {
      "cell_type": "code",
      "source": [
        "a=[1,2,34,6,32,14,65,7]\n",
        "arr=np.array(a)\n",
        "print(arr)\n",
        "\n"
      ],
      "metadata": {
        "colab": {
          "base_uri": "https://localhost:8080/"
        },
        "id": "ocmvSbTb2ScO",
        "outputId": "7f21e91f-e8a6-4ba9-fa3e-861a0e7b75f7"
      },
      "execution_count": 2,
      "outputs": [
        {
          "output_type": "stream",
          "name": "stdout",
          "text": [
            "[ 1  2 34  6 32 14 65  7]\n"
          ]
        }
      ]
    },
    {
      "cell_type": "code",
      "source": [
        "arr=np.array([1,2,34,6,32,14,65,7])\n",
        "print(arr)\n"
      ],
      "metadata": {
        "colab": {
          "base_uri": "https://localhost:8080/"
        },
        "id": "TQUEstGH2uZi",
        "outputId": "bab53433-7910-4672-d2d4-061506a44214"
      },
      "execution_count": 3,
      "outputs": [
        {
          "output_type": "stream",
          "name": "stdout",
          "text": [
            "[ 1  2 34  6 32 14 65  7]\n"
          ]
        }
      ]
    },
    {
      "cell_type": "code",
      "source": [
        "print(arr[0])\n",
        "print(arr[2])\n"
      ],
      "metadata": {
        "colab": {
          "base_uri": "https://localhost:8080/"
        },
        "id": "GGkjq3Q62-l4",
        "outputId": "e765010c-0bc6-4e88-a3f3-2fbe52a42d45"
      },
      "execution_count": 4,
      "outputs": [
        {
          "output_type": "stream",
          "name": "stdout",
          "text": [
            "1\n",
            "34\n"
          ]
        }
      ]
    },
    {
      "cell_type": "markdown",
      "source": [
        "##Create a 2D array (Matrix)\n",
        "\n"
      ],
      "metadata": {
        "id": "uc1HtC4n3KZc"
      }
    },
    {
      "cell_type": "code",
      "source": [
        "aa=[[1,2,3,4],[4,2,3,6]]\n",
        "A=np.array(aa)\n",
        "print(A)\n"
      ],
      "metadata": {
        "colab": {
          "base_uri": "https://localhost:8080/"
        },
        "id": "sxvnzYhW3Flg",
        "outputId": "2847badb-a289-445c-eca9-afc83c6fc0d4"
      },
      "execution_count": 5,
      "outputs": [
        {
          "output_type": "stream",
          "name": "stdout",
          "text": [
            "[[1 2 3 4]\n",
            " [4 2 3 6]]\n"
          ]
        }
      ]
    },
    {
      "cell_type": "code",
      "source": [
        "A=np.array([[1,2,3,4],[4,2,3,6]])\n",
        "print(A)\n"
      ],
      "metadata": {
        "colab": {
          "base_uri": "https://localhost:8080/"
        },
        "id": "HOkWNs5I3tqh",
        "outputId": "f0c76719-8d13-4807-969d-289a911b50b5"
      },
      "execution_count": 6,
      "outputs": [
        {
          "output_type": "stream",
          "name": "stdout",
          "text": [
            "[[1 2 3 4]\n",
            " [4 2 3 6]]\n"
          ]
        }
      ]
    },
    {
      "cell_type": "code",
      "source": [
        "print(type(A)) # n dimenional array\n"
      ],
      "metadata": {
        "colab": {
          "base_uri": "https://localhost:8080/"
        },
        "id": "GN0CaF1h33dB",
        "outputId": "3b6aa404-9879-4898-b0a4-0b0d47bf0c76"
      },
      "execution_count": 7,
      "outputs": [
        {
          "output_type": "stream",
          "name": "stdout",
          "text": [
            "<class 'numpy.ndarray'>\n"
          ]
        }
      ]
    },
    {
      "cell_type": "code",
      "source": [
        "print(type(arr))"
      ],
      "metadata": {
        "colab": {
          "base_uri": "https://localhost:8080/"
        },
        "id": "FY3BlHrY39CH",
        "outputId": "d900df74-9fd7-480a-dae5-d6aa2b00d9a4"
      },
      "execution_count": 8,
      "outputs": [
        {
          "output_type": "stream",
          "name": "stdout",
          "text": [
            "<class 'numpy.ndarray'>\n"
          ]
        }
      ]
    },
    {
      "cell_type": "code",
      "source": [
        "np.ndim(arr)"
      ],
      "metadata": {
        "colab": {
          "base_uri": "https://localhost:8080/"
        },
        "id": "t8JW2wvH4wmA",
        "outputId": "728af6fa-8a51-4dec-ef05-f2f38fb1a6d1"
      },
      "execution_count": 9,
      "outputs": [
        {
          "output_type": "execute_result",
          "data": {
            "text/plain": [
              "1"
            ]
          },
          "metadata": {},
          "execution_count": 9
        }
      ]
    },
    {
      "cell_type": "code",
      "source": [
        "np.ndim(A)"
      ],
      "metadata": {
        "colab": {
          "base_uri": "https://localhost:8080/"
        },
        "id": "viFklbYh40zV",
        "outputId": "5213b5d7-92e1-4844-d88d-99d36cce5ae2"
      },
      "execution_count": 10,
      "outputs": [
        {
          "output_type": "execute_result",
          "data": {
            "text/plain": [
              "2"
            ]
          },
          "metadata": {},
          "execution_count": 10
        }
      ]
    },
    {
      "cell_type": "code",
      "source": [
        "print(np.size(arr))\n",
        "\n"
      ],
      "metadata": {
        "colab": {
          "base_uri": "https://localhost:8080/"
        },
        "id": "_7wfxhV75dqt",
        "outputId": "83ca4d6b-3b6a-4a14-945f-c4390e4a1f93"
      },
      "execution_count": 11,
      "outputs": [
        {
          "output_type": "stream",
          "name": "stdout",
          "text": [
            "8\n"
          ]
        }
      ]
    },
    {
      "cell_type": "code",
      "source": [
        "print(np.size(A))\n"
      ],
      "metadata": {
        "colab": {
          "base_uri": "https://localhost:8080/"
        },
        "id": "aNr5UzS95j4t",
        "outputId": "7e0bf5f1-f314-4fdf-d3ab-c4b1a46a5695"
      },
      "execution_count": 12,
      "outputs": [
        {
          "output_type": "stream",
          "name": "stdout",
          "text": [
            "8\n"
          ]
        }
      ]
    },
    {
      "cell_type": "code",
      "source": [
        "print(np.shape(arr))\n"
      ],
      "metadata": {
        "colab": {
          "base_uri": "https://localhost:8080/"
        },
        "id": "xIQRFuUx5pTw",
        "outputId": "4d950188-e6ee-413e-b948-b2a2c3556798"
      },
      "execution_count": 13,
      "outputs": [
        {
          "output_type": "stream",
          "name": "stdout",
          "text": [
            "(8,)\n"
          ]
        }
      ]
    },
    {
      "cell_type": "code",
      "source": [
        "print(np.shape(A))\n"
      ],
      "metadata": {
        "colab": {
          "base_uri": "https://localhost:8080/"
        },
        "id": "HTCJPfI05tqF",
        "outputId": "b04ada4e-1455-4ff5-ff01-5bf9a38d06a5"
      },
      "execution_count": 14,
      "outputs": [
        {
          "output_type": "stream",
          "name": "stdout",
          "text": [
            "(2, 4)\n"
          ]
        }
      ]
    },
    {
      "cell_type": "code",
      "source": [
        "\n",
        "A=np.array([[1,2,3],[3,4,5],[4,5,6]])\n",
        "print(A)"
      ],
      "metadata": {
        "colab": {
          "base_uri": "https://localhost:8080/"
        },
        "id": "Oe1Gw4Sm6BQ2",
        "outputId": "d381e3a5-8656-4278-ae27-e676d83fda94"
      },
      "execution_count": 15,
      "outputs": [
        {
          "output_type": "stream",
          "name": "stdout",
          "text": [
            "[[1 2 3]\n",
            " [3 4 5]\n",
            " [4 5 6]]\n"
          ]
        }
      ]
    },
    {
      "cell_type": "code",
      "source": [
        "print(A[0,:])\n",
        "print(A[1,:])\n",
        "print(A[2,:])\n"
      ],
      "metadata": {
        "colab": {
          "base_uri": "https://localhost:8080/"
        },
        "id": "b8s3Kf4V6Sks",
        "outputId": "90194cd9-29b3-44ce-b1e7-cca0205a7f00"
      },
      "execution_count": 16,
      "outputs": [
        {
          "output_type": "stream",
          "name": "stdout",
          "text": [
            "[1 2 3]\n",
            "[3 4 5]\n",
            "[4 5 6]\n"
          ]
        }
      ]
    },
    {
      "cell_type": "code",
      "source": [
        "print(A[:,0])\n",
        "print(A[:,1])\n",
        "print(A[:,2])\n"
      ],
      "metadata": {
        "colab": {
          "base_uri": "https://localhost:8080/"
        },
        "id": "rPYGtj_g6XqU",
        "outputId": "315549c1-e7b8-4cc0-c9b7-141a3186a5e0"
      },
      "execution_count": 17,
      "outputs": [
        {
          "output_type": "stream",
          "name": "stdout",
          "text": [
            "[1 3 4]\n",
            "[2 4 5]\n",
            "[3 5 6]\n"
          ]
        }
      ]
    },
    {
      "cell_type": "code",
      "source": [
        "print(A[2,1])\n"
      ],
      "metadata": {
        "colab": {
          "base_uri": "https://localhost:8080/"
        },
        "id": "jq21xygK6eFt",
        "outputId": "7d2da952-5739-4eee-c886-b500aa19a54e"
      },
      "execution_count": 18,
      "outputs": [
        {
          "output_type": "stream",
          "name": "stdout",
          "text": [
            "5\n"
          ]
        }
      ]
    },
    {
      "cell_type": "markdown",
      "source": [
        "##Pandas Library"
      ],
      "metadata": {
        "id": "k58X6bZH6rGV"
      }
    },
    {
      "cell_type": "code",
      "source": [
        "import pandas as pd\n"
      ],
      "metadata": {
        "id": "R3Vd4X5X6laA"
      },
      "execution_count": 19,
      "outputs": []
    },
    {
      "cell_type": "code",
      "source": [
        "\n",
        "\n",
        "Dataset={\n",
        "    \"State\": ['Andhra Pradesh', 'Maharashtra', 'Karnataka', 'Kerala', 'Tamil Nadu'],\n",
        "    \"Capital\": ['Hyderabad', 'Mumbai', 'Bengaluru', 'Trivandrum', 'Chennai'],\n",
        "    \"Literacy %\": [89, 77, 82, 97,85],\n",
        "    \"Avg High Temp(c)\": [33, 30, 29, 31, 32 ]}\n",
        "print(Dataset)"
      ],
      "metadata": {
        "colab": {
          "base_uri": "https://localhost:8080/"
        },
        "id": "Tb9BdctW60b2",
        "outputId": "22b71d83-6b7b-43af-ce96-647de9c552e5"
      },
      "execution_count": 21,
      "outputs": [
        {
          "output_type": "stream",
          "name": "stdout",
          "text": [
            "{'State': ['Andhra Pradesh', 'Maharashtra', 'Karnataka', 'Kerala', 'Tamil Nadu'], 'Capital': ['Hyderabad', 'Mumbai', 'Bengaluru', 'Trivandrum', 'Chennai'], 'Literacy %': [89, 77, 82, 97, 85], 'Avg High Temp(c)': [33, 30, 29, 31, 32]}\n"
          ]
        }
      ]
    },
    {
      "cell_type": "code",
      "source": [
        "df = pd.DataFrame(Dataset)\n",
        "print(df)\n"
      ],
      "metadata": {
        "colab": {
          "base_uri": "https://localhost:8080/"
        },
        "id": "_Ye6OF8A7hFO",
        "outputId": "6ce60436-a22c-4fad-c73e-dbe6b3fcc521"
      },
      "execution_count": 22,
      "outputs": [
        {
          "output_type": "stream",
          "name": "stdout",
          "text": [
            "            State     Capital  Literacy %  Avg High Temp(c)\n",
            "0  Andhra Pradesh   Hyderabad          89                33\n",
            "1     Maharashtra      Mumbai          77                30\n",
            "2       Karnataka   Bengaluru          82                29\n",
            "3          Kerala  Trivandrum          97                31\n",
            "4      Tamil Nadu     Chennai          85                32\n"
          ]
        }
      ]
    },
    {
      "cell_type": "code",
      "source": [
        "df = pd.DataFrame({\n",
        "  \"State\": ['Andhra Pradesh', 'Maharashtra', 'Karnataka', 'Kerala', 'Tamil Nadu'],\n",
        "  \"Capital\": ['Hyderabad', 'Mumbai', 'Bengaluru', 'Trivandrum', 'Chennai'],\n",
        "  \"Literacy %\": [89, 77, 82, 97,85],\n",
        "  \"Avg High Temp(c)\": [33, 30, 29, 31, 32 ]\n",
        "  })\n",
        "print(df)\n",
        "\n"
      ],
      "metadata": {
        "colab": {
          "base_uri": "https://localhost:8080/"
        },
        "id": "KRah_thO7mSM",
        "outputId": "c0fa11e9-7662-4835-984f-101cfec189c4"
      },
      "execution_count": 24,
      "outputs": [
        {
          "output_type": "stream",
          "name": "stdout",
          "text": [
            "            State     Capital  Literacy %  Avg High Temp(c)\n",
            "0  Andhra Pradesh   Hyderabad          89                33\n",
            "1     Maharashtra      Mumbai          77                30\n",
            "2       Karnataka   Bengaluru          82                29\n",
            "3          Kerala  Trivandrum          97                31\n",
            "4      Tamil Nadu     Chennai          85                32\n"
          ]
        }
      ]
    },
    {
      "cell_type": "code",
      "source": [
        "print(df.head(2))"
      ],
      "metadata": {
        "colab": {
          "base_uri": "https://localhost:8080/"
        },
        "id": "yARLP-XR71q5",
        "outputId": "835025d9-d8b8-4ee5-fff9-526342442297"
      },
      "execution_count": 25,
      "outputs": [
        {
          "output_type": "stream",
          "name": "stdout",
          "text": [
            "            State    Capital  Literacy %  Avg High Temp(c)\n",
            "0  Andhra Pradesh  Hyderabad          89                33\n",
            "1     Maharashtra     Mumbai          77                30\n"
          ]
        }
      ]
    },
    {
      "cell_type": "code",
      "source": [
        "print(df.tail(3))"
      ],
      "metadata": {
        "colab": {
          "base_uri": "https://localhost:8080/"
        },
        "id": "SkHVn6A88EUi",
        "outputId": "874143e8-1a1c-41b7-a675-60a0185cc45e"
      },
      "execution_count": 26,
      "outputs": [
        {
          "output_type": "stream",
          "name": "stdout",
          "text": [
            "        State     Capital  Literacy %  Avg High Temp(c)\n",
            "2   Karnataka   Bengaluru          82                29\n",
            "3      Kerala  Trivandrum          97                31\n",
            "4  Tamil Nadu     Chennai          85                32\n"
          ]
        }
      ]
    },
    {
      "cell_type": "code",
      "source": [
        "print(df.dtypes)"
      ],
      "metadata": {
        "colab": {
          "base_uri": "https://localhost:8080/"
        },
        "id": "Srm5d3xU8NFp",
        "outputId": "4fc15e88-a621-40fb-9ced-6c3c8668b736"
      },
      "execution_count": 27,
      "outputs": [
        {
          "output_type": "stream",
          "name": "stdout",
          "text": [
            "State               object\n",
            "Capital             object\n",
            "Literacy %           int64\n",
            "Avg High Temp(c)     int64\n",
            "dtype: object\n"
          ]
        }
      ]
    },
    {
      "cell_type": "code",
      "source": [
        "print(df.sort_values('Literacy %', ascending=False))\n"
      ],
      "metadata": {
        "colab": {
          "base_uri": "https://localhost:8080/"
        },
        "id": "WHqpY4U58qH1",
        "outputId": "f96422f5-9a70-4398-a676-a89d9876179c"
      },
      "execution_count": 28,
      "outputs": [
        {
          "output_type": "stream",
          "name": "stdout",
          "text": [
            "            State     Capital  Literacy %  Avg High Temp(c)\n",
            "3          Kerala  Trivandrum          97                31\n",
            "0  Andhra Pradesh   Hyderabad          89                33\n",
            "4      Tamil Nadu     Chennai          85                32\n",
            "2       Karnataka   Bengaluru          82                29\n",
            "1     Maharashtra      Mumbai          77                30\n"
          ]
        }
      ]
    },
    {
      "cell_type": "code",
      "source": [
        "print(df[['Capital']])\n"
      ],
      "metadata": {
        "colab": {
          "base_uri": "https://localhost:8080/"
        },
        "id": "fay10v6s8sKk",
        "outputId": "0f377425-d43e-4bac-fd76-0bbeb590e1e9"
      },
      "execution_count": 29,
      "outputs": [
        {
          "output_type": "stream",
          "name": "stdout",
          "text": [
            "      Capital\n",
            "0   Hyderabad\n",
            "1      Mumbai\n",
            "2   Bengaluru\n",
            "3  Trivandrum\n",
            "4     Chennai\n"
          ]
        }
      ]
    },
    {
      "cell_type": "code",
      "source": [
        "print(df[['State', 'Capital']])"
      ],
      "metadata": {
        "colab": {
          "base_uri": "https://localhost:8080/"
        },
        "id": "pmeJFlLu8vT9",
        "outputId": "5ddc668b-9c91-419d-dd74-4426ba862fca"
      },
      "execution_count": 30,
      "outputs": [
        {
          "output_type": "stream",
          "name": "stdout",
          "text": [
            "            State     Capital\n",
            "0  Andhra Pradesh   Hyderabad\n",
            "1     Maharashtra      Mumbai\n",
            "2       Karnataka   Bengaluru\n",
            "3          Kerala  Trivandrum\n",
            "4      Tamil Nadu     Chennai\n"
          ]
        }
      ]
    },
    {
      "cell_type": "code",
      "source": [
        "print(df.loc[2])"
      ],
      "metadata": {
        "colab": {
          "base_uri": "https://localhost:8080/"
        },
        "id": "QQW7UgQb8072",
        "outputId": "96966487-040a-4bc5-ded3-210902d3a524"
      },
      "execution_count": 31,
      "outputs": [
        {
          "output_type": "stream",
          "name": "stdout",
          "text": [
            "State               Karnataka\n",
            "Capital             Bengaluru\n",
            "Literacy %                 82\n",
            "Avg High Temp(c)           29\n",
            "Name: 2, dtype: object\n"
          ]
        }
      ]
    },
    {
      "cell_type": "code",
      "source": [
        "print(df.iloc[2])\n"
      ],
      "metadata": {
        "colab": {
          "base_uri": "https://localhost:8080/"
        },
        "id": "J3Hb2Ww-82EW",
        "outputId": "f0874bae-6996-4389-91eb-b605cfdbf956"
      },
      "execution_count": 32,
      "outputs": [
        {
          "output_type": "stream",
          "name": "stdout",
          "text": [
            "State               Karnataka\n",
            "Capital             Bengaluru\n",
            "Literacy %                 82\n",
            "Avg High Temp(c)           29\n",
            "Name: 2, dtype: object\n"
          ]
        }
      ]
    },
    {
      "cell_type": "code",
      "source": [
        "print(df.iloc[1,2])\n"
      ],
      "metadata": {
        "colab": {
          "base_uri": "https://localhost:8080/"
        },
        "id": "AEd5Bygf9bTx",
        "outputId": "bf2d4331-0c4c-44c5-e06b-1c44bccdf76d"
      },
      "execution_count": 33,
      "outputs": [
        {
          "output_type": "stream",
          "name": "stdout",
          "text": [
            "77\n"
          ]
        }
      ]
    },
    {
      "cell_type": "code",
      "source": [
        "print(df.loc[1,'Literacy %'])"
      ],
      "metadata": {
        "colab": {
          "base_uri": "https://localhost:8080/"
        },
        "id": "yenBUOue9pad",
        "outputId": "b65df736-adc5-4638-f84e-03ba02f53db9"
      },
      "execution_count": 34,
      "outputs": [
        {
          "output_type": "stream",
          "name": "stdout",
          "text": [
            "77\n"
          ]
        }
      ]
    },
    {
      "cell_type": "code",
      "source": [
        "a={\"Distance\":[15, 13, 16, 16, 15, 16, 17, 14, 15, 16, 16,17, 14, 17, 17, 16, 14, 15, 16, 17, 14, 16, 15, 17, 1]}"
      ],
      "metadata": {
        "id": "AS3MkbFa9vVe"
      },
      "execution_count": 35,
      "outputs": []
    },
    {
      "cell_type": "code",
      "source": [
        "import pandas as pd\n",
        "df=pd.DataFrame(a)\n",
        "print(df)\n",
        "print('The number of elements in the column is =',df['Distance'].size)\n"
      ],
      "metadata": {
        "colab": {
          "base_uri": "https://localhost:8080/"
        },
        "id": "RnRKcL0Z90xY",
        "outputId": "7ff52ac5-d473-4c5d-a46a-c2648f9ca1d4"
      },
      "execution_count": 36,
      "outputs": [
        {
          "output_type": "stream",
          "name": "stdout",
          "text": [
            "    Distance\n",
            "0         15\n",
            "1         13\n",
            "2         16\n",
            "3         16\n",
            "4         15\n",
            "5         16\n",
            "6         17\n",
            "7         14\n",
            "8         15\n",
            "9         16\n",
            "10        16\n",
            "11        17\n",
            "12        14\n",
            "13        17\n",
            "14        17\n",
            "15        16\n",
            "16        14\n",
            "17        15\n",
            "18        16\n",
            "19        17\n",
            "20        14\n",
            "21        16\n",
            "22        15\n",
            "23        17\n",
            "24         1\n",
            "The number of elements in the column is = 25\n"
          ]
        }
      ]
    },
    {
      "cell_type": "code",
      "source": [
        "df2=pd.crosstab(index=df['Distance'],columns='Frequency')\n",
        "print(df2)\n"
      ],
      "metadata": {
        "colab": {
          "base_uri": "https://localhost:8080/"
        },
        "id": "OxiyAP3E-jud",
        "outputId": "d503dc75-3b75-4062-d4f1-af11a2eb6926"
      },
      "execution_count": 37,
      "outputs": [
        {
          "output_type": "stream",
          "name": "stdout",
          "text": [
            "col_0     Frequency\n",
            "Distance           \n",
            "1                 1\n",
            "13                1\n",
            "14                4\n",
            "15                5\n",
            "16                8\n",
            "17                6\n"
          ]
        }
      ]
    },
    {
      "cell_type": "code",
      "source": [
        "print(df2['Frequency'].sum())"
      ],
      "metadata": {
        "colab": {
          "base_uri": "https://localhost:8080/"
        },
        "id": "Yn0ydwYC-zX4",
        "outputId": "14fa219d-4607-4992-9da3-087dffb99ba5"
      },
      "execution_count": 38,
      "outputs": [
        {
          "output_type": "stream",
          "name": "stdout",
          "text": [
            "25\n"
          ]
        }
      ]
    },
    {
      "cell_type": "code",
      "source": [
        "df2['Relative_Frequencies']=df2['Frequency']/df2['Frequency'].sum()\n",
        "df2['Percentage']=df2['Frequency']/df2['Frequency'].sum()*100\n",
        "print(df2)"
      ],
      "metadata": {
        "colab": {
          "base_uri": "https://localhost:8080/"
        },
        "id": "zRvAgiGA-_nC",
        "outputId": "51326ae5-3aeb-47b4-cee7-96ab480e5dc7"
      },
      "execution_count": 39,
      "outputs": [
        {
          "output_type": "stream",
          "name": "stdout",
          "text": [
            "col_0     Frequency  Relative_Frequencies  Percentage\n",
            "Distance                                             \n",
            "1                 1                  0.04         4.0\n",
            "13                1                  0.04         4.0\n",
            "14                4                  0.16        16.0\n",
            "15                5                  0.20        20.0\n",
            "16                8                  0.32        32.0\n",
            "17                6                  0.24        24.0\n"
          ]
        }
      ]
    },
    {
      "cell_type": "code",
      "source": [
        "df2.loc['Total']=df2.sum()\n",
        "print(df2)"
      ],
      "metadata": {
        "colab": {
          "base_uri": "https://localhost:8080/"
        },
        "id": "P2aLMfmG_Irt",
        "outputId": "d8df731e-0233-4695-aa34-49e887069a4b"
      },
      "execution_count": 40,
      "outputs": [
        {
          "output_type": "stream",
          "name": "stdout",
          "text": [
            "col_0     Frequency  Relative_Frequencies  Percentage\n",
            "Distance                                             \n",
            "1               1.0                  0.04         4.0\n",
            "13              1.0                  0.04         4.0\n",
            "14              4.0                  0.16        16.0\n",
            "15              5.0                  0.20        20.0\n",
            "16              8.0                  0.32        32.0\n",
            "17              6.0                  0.24        24.0\n",
            "Total          25.0                  1.00       100.0\n"
          ]
        }
      ]
    },
    {
      "cell_type": "code",
      "source": [
        "import numpy as np\n",
        "import pandas as pd\n"
      ],
      "metadata": {
        "id": "nE0Tpk27_MZd"
      },
      "execution_count": 41,
      "outputs": []
    },
    {
      "cell_type": "code",
      "source": [
        "data=[328, 470, 405, 375, 298, 326, 276, 362, 410, 255, 391, 370, 455, 229, 300, 183,\n",
        "283, 366, 400, 495, 215, 157, 374, 306, 280, 409, 321, 269, 398, 200]\n",
        "diction={\"Score\":data}\n",
        "df=pd.DataFrame(diction)\n",
        "print(df)\n"
      ],
      "metadata": {
        "colab": {
          "base_uri": "https://localhost:8080/"
        },
        "id": "xrWpzIIK_e8r",
        "outputId": "a6480981-3ccd-4888-9dfa-51e3ac2fae5a"
      },
      "execution_count": 42,
      "outputs": [
        {
          "output_type": "stream",
          "name": "stdout",
          "text": [
            "    Score\n",
            "0     328\n",
            "1     470\n",
            "2     405\n",
            "3     375\n",
            "4     298\n",
            "5     326\n",
            "6     276\n",
            "7     362\n",
            "8     410\n",
            "9     255\n",
            "10    391\n",
            "11    370\n",
            "12    455\n",
            "13    229\n",
            "14    300\n",
            "15    183\n",
            "16    283\n",
            "17    366\n",
            "18    400\n",
            "19    495\n",
            "20    215\n",
            "21    157\n",
            "22    374\n",
            "23    306\n",
            "24    280\n",
            "25    409\n",
            "26    321\n",
            "27    269\n",
            "28    398\n",
            "29    200\n"
          ]
        }
      ]
    },
    {
      "cell_type": "code",
      "source": [
        "A=min(data)\n",
        "print('The lowest value is ',A)\n",
        "B=max(data)\n",
        "print('The highestest value is ',B)\n",
        "N=round((B-A)/50)\n",
        "N"
      ],
      "metadata": {
        "colab": {
          "base_uri": "https://localhost:8080/"
        },
        "id": "bR9Boa7f_nYd",
        "outputId": "27e970f4-e5bf-4115-c27f-ea207b14a8ba"
      },
      "execution_count": 43,
      "outputs": [
        {
          "output_type": "stream",
          "name": "stdout",
          "text": [
            "The lowest value is  157\n",
            "The highestest value is  495\n"
          ]
        },
        {
          "output_type": "execute_result",
          "data": {
            "text/plain": [
              "7"
            ]
          },
          "metadata": {},
          "execution_count": 43
        }
      ]
    },
    {
      "cell_type": "code",
      "source": [
        "bins=np.linspace(150,500,N+1)\n",
        "print(bins)"
      ],
      "metadata": {
        "colab": {
          "base_uri": "https://localhost:8080/"
        },
        "id": "sJ7rA1Va_uC_",
        "outputId": "8d4a4834-5c1f-49c8-f24f-596c7b8cac89"
      },
      "execution_count": 44,
      "outputs": [
        {
          "output_type": "stream",
          "name": "stdout",
          "text": [
            "[150. 200. 250. 300. 350. 400. 450. 500.]\n"
          ]
        }
      ]
    },
    {
      "cell_type": "code",
      "source": [
        "df['Class Intervals']=pd.cut(df['Score'],bins=bins,right=False,)\n",
        "print(df)\n"
      ],
      "metadata": {
        "colab": {
          "base_uri": "https://localhost:8080/"
        },
        "id": "VtaQhDlEAHOO",
        "outputId": "2c3d7210-e9f1-4122-81c0-a39eeff23283"
      },
      "execution_count": 45,
      "outputs": [
        {
          "output_type": "stream",
          "name": "stdout",
          "text": [
            "    Score Class Intervals\n",
            "0     328  [300.0, 350.0)\n",
            "1     470  [450.0, 500.0)\n",
            "2     405  [400.0, 450.0)\n",
            "3     375  [350.0, 400.0)\n",
            "4     298  [250.0, 300.0)\n",
            "5     326  [300.0, 350.0)\n",
            "6     276  [250.0, 300.0)\n",
            "7     362  [350.0, 400.0)\n",
            "8     410  [400.0, 450.0)\n",
            "9     255  [250.0, 300.0)\n",
            "10    391  [350.0, 400.0)\n",
            "11    370  [350.0, 400.0)\n",
            "12    455  [450.0, 500.0)\n",
            "13    229  [200.0, 250.0)\n",
            "14    300  [300.0, 350.0)\n",
            "15    183  [150.0, 200.0)\n",
            "16    283  [250.0, 300.0)\n",
            "17    366  [350.0, 400.0)\n",
            "18    400  [400.0, 450.0)\n",
            "19    495  [450.0, 500.0)\n",
            "20    215  [200.0, 250.0)\n",
            "21    157  [150.0, 200.0)\n",
            "22    374  [350.0, 400.0)\n",
            "23    306  [300.0, 350.0)\n",
            "24    280  [250.0, 300.0)\n",
            "25    409  [400.0, 450.0)\n",
            "26    321  [300.0, 350.0)\n",
            "27    269  [250.0, 300.0)\n",
            "28    398  [350.0, 400.0)\n",
            "29    200  [200.0, 250.0)\n"
          ]
        }
      ]
    },
    {
      "cell_type": "code",
      "source": [
        "table2=pd.crosstab(index=df['Class Intervals'],columns='Frequency')"
      ],
      "metadata": {
        "id": "0ZO-7heAALkl"
      },
      "execution_count": 46,
      "outputs": []
    },
    {
      "cell_type": "code",
      "source": [
        "table2\n"
      ],
      "metadata": {
        "colab": {
          "base_uri": "https://localhost:8080/",
          "height": 300
        },
        "id": "q3qJ_E3dANd3",
        "outputId": "938dc8e6-8ec9-4cb9-a907-05b71d8ea078"
      },
      "execution_count": 47,
      "outputs": [
        {
          "output_type": "execute_result",
          "data": {
            "text/plain": [
              "col_0            Frequency\n",
              "Class Intervals           \n",
              "[150.0, 200.0)           2\n",
              "[200.0, 250.0)           3\n",
              "[250.0, 300.0)           6\n",
              "[300.0, 350.0)           5\n",
              "[350.0, 400.0)           7\n",
              "[400.0, 450.0)           4\n",
              "[450.0, 500.0)           3"
            ],
            "text/html": [
              "\n",
              "  <div id=\"df-14811d48-3738-43ef-8efe-1947e0f830c0\" class=\"colab-df-container\">\n",
              "    <div>\n",
              "<style scoped>\n",
              "    .dataframe tbody tr th:only-of-type {\n",
              "        vertical-align: middle;\n",
              "    }\n",
              "\n",
              "    .dataframe tbody tr th {\n",
              "        vertical-align: top;\n",
              "    }\n",
              "\n",
              "    .dataframe thead th {\n",
              "        text-align: right;\n",
              "    }\n",
              "</style>\n",
              "<table border=\"1\" class=\"dataframe\">\n",
              "  <thead>\n",
              "    <tr style=\"text-align: right;\">\n",
              "      <th>col_0</th>\n",
              "      <th>Frequency</th>\n",
              "    </tr>\n",
              "    <tr>\n",
              "      <th>Class Intervals</th>\n",
              "      <th></th>\n",
              "    </tr>\n",
              "  </thead>\n",
              "  <tbody>\n",
              "    <tr>\n",
              "      <th>[150.0, 200.0)</th>\n",
              "      <td>2</td>\n",
              "    </tr>\n",
              "    <tr>\n",
              "      <th>[200.0, 250.0)</th>\n",
              "      <td>3</td>\n",
              "    </tr>\n",
              "    <tr>\n",
              "      <th>[250.0, 300.0)</th>\n",
              "      <td>6</td>\n",
              "    </tr>\n",
              "    <tr>\n",
              "      <th>[300.0, 350.0)</th>\n",
              "      <td>5</td>\n",
              "    </tr>\n",
              "    <tr>\n",
              "      <th>[350.0, 400.0)</th>\n",
              "      <td>7</td>\n",
              "    </tr>\n",
              "    <tr>\n",
              "      <th>[400.0, 450.0)</th>\n",
              "      <td>4</td>\n",
              "    </tr>\n",
              "    <tr>\n",
              "      <th>[450.0, 500.0)</th>\n",
              "      <td>3</td>\n",
              "    </tr>\n",
              "  </tbody>\n",
              "</table>\n",
              "</div>\n",
              "    <div class=\"colab-df-buttons\">\n",
              "\n",
              "  <div class=\"colab-df-container\">\n",
              "    <button class=\"colab-df-convert\" onclick=\"convertToInteractive('df-14811d48-3738-43ef-8efe-1947e0f830c0')\"\n",
              "            title=\"Convert this dataframe to an interactive table.\"\n",
              "            style=\"display:none;\">\n",
              "\n",
              "  <svg xmlns=\"http://www.w3.org/2000/svg\" height=\"24px\" viewBox=\"0 -960 960 960\">\n",
              "    <path d=\"M120-120v-720h720v720H120Zm60-500h600v-160H180v160Zm220 220h160v-160H400v160Zm0 220h160v-160H400v160ZM180-400h160v-160H180v160Zm440 0h160v-160H620v160ZM180-180h160v-160H180v160Zm440 0h160v-160H620v160Z\"/>\n",
              "  </svg>\n",
              "    </button>\n",
              "\n",
              "  <style>\n",
              "    .colab-df-container {\n",
              "      display:flex;\n",
              "      gap: 12px;\n",
              "    }\n",
              "\n",
              "    .colab-df-convert {\n",
              "      background-color: #E8F0FE;\n",
              "      border: none;\n",
              "      border-radius: 50%;\n",
              "      cursor: pointer;\n",
              "      display: none;\n",
              "      fill: #1967D2;\n",
              "      height: 32px;\n",
              "      padding: 0 0 0 0;\n",
              "      width: 32px;\n",
              "    }\n",
              "\n",
              "    .colab-df-convert:hover {\n",
              "      background-color: #E2EBFA;\n",
              "      box-shadow: 0px 1px 2px rgba(60, 64, 67, 0.3), 0px 1px 3px 1px rgba(60, 64, 67, 0.15);\n",
              "      fill: #174EA6;\n",
              "    }\n",
              "\n",
              "    .colab-df-buttons div {\n",
              "      margin-bottom: 4px;\n",
              "    }\n",
              "\n",
              "    [theme=dark] .colab-df-convert {\n",
              "      background-color: #3B4455;\n",
              "      fill: #D2E3FC;\n",
              "    }\n",
              "\n",
              "    [theme=dark] .colab-df-convert:hover {\n",
              "      background-color: #434B5C;\n",
              "      box-shadow: 0px 1px 3px 1px rgba(0, 0, 0, 0.15);\n",
              "      filter: drop-shadow(0px 1px 2px rgba(0, 0, 0, 0.3));\n",
              "      fill: #FFFFFF;\n",
              "    }\n",
              "  </style>\n",
              "\n",
              "    <script>\n",
              "      const buttonEl =\n",
              "        document.querySelector('#df-14811d48-3738-43ef-8efe-1947e0f830c0 button.colab-df-convert');\n",
              "      buttonEl.style.display =\n",
              "        google.colab.kernel.accessAllowed ? 'block' : 'none';\n",
              "\n",
              "      async function convertToInteractive(key) {\n",
              "        const element = document.querySelector('#df-14811d48-3738-43ef-8efe-1947e0f830c0');\n",
              "        const dataTable =\n",
              "          await google.colab.kernel.invokeFunction('convertToInteractive',\n",
              "                                                    [key], {});\n",
              "        if (!dataTable) return;\n",
              "\n",
              "        const docLinkHtml = 'Like what you see? Visit the ' +\n",
              "          '<a target=\"_blank\" href=https://colab.research.google.com/notebooks/data_table.ipynb>data table notebook</a>'\n",
              "          + ' to learn more about interactive tables.';\n",
              "        element.innerHTML = '';\n",
              "        dataTable['output_type'] = 'display_data';\n",
              "        await google.colab.output.renderOutput(dataTable, element);\n",
              "        const docLink = document.createElement('div');\n",
              "        docLink.innerHTML = docLinkHtml;\n",
              "        element.appendChild(docLink);\n",
              "      }\n",
              "    </script>\n",
              "  </div>\n",
              "\n",
              "\n",
              "<div id=\"df-4905b1f8-51a8-4dc8-9c94-d2ec5acab9e1\">\n",
              "  <button class=\"colab-df-quickchart\" onclick=\"quickchart('df-4905b1f8-51a8-4dc8-9c94-d2ec5acab9e1')\"\n",
              "            title=\"Suggest charts\"\n",
              "            style=\"display:none;\">\n",
              "\n",
              "<svg xmlns=\"http://www.w3.org/2000/svg\" height=\"24px\"viewBox=\"0 0 24 24\"\n",
              "     width=\"24px\">\n",
              "    <g>\n",
              "        <path d=\"M19 3H5c-1.1 0-2 .9-2 2v14c0 1.1.9 2 2 2h14c1.1 0 2-.9 2-2V5c0-1.1-.9-2-2-2zM9 17H7v-7h2v7zm4 0h-2V7h2v10zm4 0h-2v-4h2v4z\"/>\n",
              "    </g>\n",
              "</svg>\n",
              "  </button>\n",
              "\n",
              "<style>\n",
              "  .colab-df-quickchart {\n",
              "      --bg-color: #E8F0FE;\n",
              "      --fill-color: #1967D2;\n",
              "      --hover-bg-color: #E2EBFA;\n",
              "      --hover-fill-color: #174EA6;\n",
              "      --disabled-fill-color: #AAA;\n",
              "      --disabled-bg-color: #DDD;\n",
              "  }\n",
              "\n",
              "  [theme=dark] .colab-df-quickchart {\n",
              "      --bg-color: #3B4455;\n",
              "      --fill-color: #D2E3FC;\n",
              "      --hover-bg-color: #434B5C;\n",
              "      --hover-fill-color: #FFFFFF;\n",
              "      --disabled-bg-color: #3B4455;\n",
              "      --disabled-fill-color: #666;\n",
              "  }\n",
              "\n",
              "  .colab-df-quickchart {\n",
              "    background-color: var(--bg-color);\n",
              "    border: none;\n",
              "    border-radius: 50%;\n",
              "    cursor: pointer;\n",
              "    display: none;\n",
              "    fill: var(--fill-color);\n",
              "    height: 32px;\n",
              "    padding: 0;\n",
              "    width: 32px;\n",
              "  }\n",
              "\n",
              "  .colab-df-quickchart:hover {\n",
              "    background-color: var(--hover-bg-color);\n",
              "    box-shadow: 0 1px 2px rgba(60, 64, 67, 0.3), 0 1px 3px 1px rgba(60, 64, 67, 0.15);\n",
              "    fill: var(--button-hover-fill-color);\n",
              "  }\n",
              "\n",
              "  .colab-df-quickchart-complete:disabled,\n",
              "  .colab-df-quickchart-complete:disabled:hover {\n",
              "    background-color: var(--disabled-bg-color);\n",
              "    fill: var(--disabled-fill-color);\n",
              "    box-shadow: none;\n",
              "  }\n",
              "\n",
              "  .colab-df-spinner {\n",
              "    border: 2px solid var(--fill-color);\n",
              "    border-color: transparent;\n",
              "    border-bottom-color: var(--fill-color);\n",
              "    animation:\n",
              "      spin 1s steps(1) infinite;\n",
              "  }\n",
              "\n",
              "  @keyframes spin {\n",
              "    0% {\n",
              "      border-color: transparent;\n",
              "      border-bottom-color: var(--fill-color);\n",
              "      border-left-color: var(--fill-color);\n",
              "    }\n",
              "    20% {\n",
              "      border-color: transparent;\n",
              "      border-left-color: var(--fill-color);\n",
              "      border-top-color: var(--fill-color);\n",
              "    }\n",
              "    30% {\n",
              "      border-color: transparent;\n",
              "      border-left-color: var(--fill-color);\n",
              "      border-top-color: var(--fill-color);\n",
              "      border-right-color: var(--fill-color);\n",
              "    }\n",
              "    40% {\n",
              "      border-color: transparent;\n",
              "      border-right-color: var(--fill-color);\n",
              "      border-top-color: var(--fill-color);\n",
              "    }\n",
              "    60% {\n",
              "      border-color: transparent;\n",
              "      border-right-color: var(--fill-color);\n",
              "    }\n",
              "    80% {\n",
              "      border-color: transparent;\n",
              "      border-right-color: var(--fill-color);\n",
              "      border-bottom-color: var(--fill-color);\n",
              "    }\n",
              "    90% {\n",
              "      border-color: transparent;\n",
              "      border-bottom-color: var(--fill-color);\n",
              "    }\n",
              "  }\n",
              "</style>\n",
              "\n",
              "  <script>\n",
              "    async function quickchart(key) {\n",
              "      const quickchartButtonEl =\n",
              "        document.querySelector('#' + key + ' button');\n",
              "      quickchartButtonEl.disabled = true;  // To prevent multiple clicks.\n",
              "      quickchartButtonEl.classList.add('colab-df-spinner');\n",
              "      try {\n",
              "        const charts = await google.colab.kernel.invokeFunction(\n",
              "            'suggestCharts', [key], {});\n",
              "      } catch (error) {\n",
              "        console.error('Error during call to suggestCharts:', error);\n",
              "      }\n",
              "      quickchartButtonEl.classList.remove('colab-df-spinner');\n",
              "      quickchartButtonEl.classList.add('colab-df-quickchart-complete');\n",
              "    }\n",
              "    (() => {\n",
              "      let quickchartButtonEl =\n",
              "        document.querySelector('#df-4905b1f8-51a8-4dc8-9c94-d2ec5acab9e1 button');\n",
              "      quickchartButtonEl.style.display =\n",
              "        google.colab.kernel.accessAllowed ? 'block' : 'none';\n",
              "    })();\n",
              "  </script>\n",
              "</div>\n",
              "\n",
              "  <div id=\"id_37f378d3-767f-45d6-9625-81cd13749e2c\">\n",
              "    <style>\n",
              "      .colab-df-generate {\n",
              "        background-color: #E8F0FE;\n",
              "        border: none;\n",
              "        border-radius: 50%;\n",
              "        cursor: pointer;\n",
              "        display: none;\n",
              "        fill: #1967D2;\n",
              "        height: 32px;\n",
              "        padding: 0 0 0 0;\n",
              "        width: 32px;\n",
              "      }\n",
              "\n",
              "      .colab-df-generate:hover {\n",
              "        background-color: #E2EBFA;\n",
              "        box-shadow: 0px 1px 2px rgba(60, 64, 67, 0.3), 0px 1px 3px 1px rgba(60, 64, 67, 0.15);\n",
              "        fill: #174EA6;\n",
              "      }\n",
              "\n",
              "      [theme=dark] .colab-df-generate {\n",
              "        background-color: #3B4455;\n",
              "        fill: #D2E3FC;\n",
              "      }\n",
              "\n",
              "      [theme=dark] .colab-df-generate:hover {\n",
              "        background-color: #434B5C;\n",
              "        box-shadow: 0px 1px 3px 1px rgba(0, 0, 0, 0.15);\n",
              "        filter: drop-shadow(0px 1px 2px rgba(0, 0, 0, 0.3));\n",
              "        fill: #FFFFFF;\n",
              "      }\n",
              "    </style>\n",
              "    <button class=\"colab-df-generate\" onclick=\"generateWithVariable('table2')\"\n",
              "            title=\"Generate code using this dataframe.\"\n",
              "            style=\"display:none;\">\n",
              "\n",
              "  <svg xmlns=\"http://www.w3.org/2000/svg\" height=\"24px\"viewBox=\"0 0 24 24\"\n",
              "       width=\"24px\">\n",
              "    <path d=\"M7,19H8.4L18.45,9,17,7.55,7,17.6ZM5,21V16.75L18.45,3.32a2,2,0,0,1,2.83,0l1.4,1.43a1.91,1.91,0,0,1,.58,1.4,1.91,1.91,0,0,1-.58,1.4L9.25,21ZM18.45,9,17,7.55Zm-12,3A5.31,5.31,0,0,0,4.9,8.1,5.31,5.31,0,0,0,1,6.5,5.31,5.31,0,0,0,4.9,4.9,5.31,5.31,0,0,0,6.5,1,5.31,5.31,0,0,0,8.1,4.9,5.31,5.31,0,0,0,12,6.5,5.46,5.46,0,0,0,6.5,12Z\"/>\n",
              "  </svg>\n",
              "    </button>\n",
              "    <script>\n",
              "      (() => {\n",
              "      const buttonEl =\n",
              "        document.querySelector('#id_37f378d3-767f-45d6-9625-81cd13749e2c button.colab-df-generate');\n",
              "      buttonEl.style.display =\n",
              "        google.colab.kernel.accessAllowed ? 'block' : 'none';\n",
              "\n",
              "      buttonEl.onclick = () => {\n",
              "        google.colab.notebook.generateWithVariable('table2');\n",
              "      }\n",
              "      })();\n",
              "    </script>\n",
              "  </div>\n",
              "\n",
              "    </div>\n",
              "  </div>\n"
            ],
            "application/vnd.google.colaboratory.intrinsic+json": {
              "type": "dataframe",
              "variable_name": "table2",
              "summary": "{\n  \"name\": \"table2\",\n  \"rows\": 7,\n  \"fields\": [\n    {\n      \"column\": \"Class Intervals\",\n      \"properties\": {\n        \"dtype\": \"category\",\n        \"num_unique_values\": 7,\n        \"samples\": [\n          \"[150.0, 200.0)\",\n          \"[200.0, 250.0)\",\n          \"[400.0, 450.0)\"\n        ],\n        \"semantic_type\": \"\",\n        \"description\": \"\"\n      }\n    },\n    {\n      \"column\": \"Frequency\",\n      \"properties\": {\n        \"dtype\": \"number\",\n        \"std\": 1,\n        \"min\": 2,\n        \"max\": 7,\n        \"num_unique_values\": 6,\n        \"samples\": [\n          2,\n          3,\n          4\n        ],\n        \"semantic_type\": \"\",\n        \"description\": \"\"\n      }\n    }\n  ]\n}"
            }
          },
          "metadata": {},
          "execution_count": 47
        }
      ]
    }
  ]
}