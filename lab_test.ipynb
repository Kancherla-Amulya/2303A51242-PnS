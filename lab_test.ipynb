{
  "nbformat": 4,
  "nbformat_minor": 0,
  "metadata": {
    "colab": {
      "provenance": [],
      "authorship_tag": "ABX9TyOamkm1MHXUPlgj2k6ee7GD",
      "include_colab_link": true
    },
    "kernelspec": {
      "name": "python3",
      "display_name": "Python 3"
    },
    "language_info": {
      "name": "python"
    }
  },
  "cells": [
    {
      "cell_type": "markdown",
      "metadata": {
        "id": "view-in-github",
        "colab_type": "text"
      },
      "source": [
        "<a href=\"https://colab.research.google.com/github/Kancherla-Amulya/2303A51242-PnS/blob/main/lab_test.ipynb\" target=\"_parent\"><img src=\"https://colab.research.google.com/assets/colab-badge.svg\" alt=\"Open In Colab\"/></a>"
      ]
    },
    {
      "cell_type": "code",
      "execution_count": 11,
      "metadata": {
        "colab": {
          "base_uri": "https://localhost:8080/"
        },
        "id": "i-E1hkpIYdhr",
        "outputId": "800fa18f-edf0-42bd-a145-d44fdaa46534"
      },
      "outputs": [
        {
          "output_type": "stream",
          "name": "stdout",
          "text": [
            "68.2\n"
          ]
        }
      ],
      "source": [
        "Scores= [55,60,65,70,75,80,85]\n",
        "\n",
        "\n",
        "\n",
        "Frequency= [8,20,25,18,12,10,7]\n",
        "\n",
        "sum_fx=sum(Frequency*Scores for Frequency,Scores in zip(Frequency,Scores))\n",
        "\n",
        "\n",
        "sum_f=sum(Frequency)\n",
        "\n",
        "\n",
        "mean=sum_fx/sum_f\n",
        "print(mean)\n",
        "\n"
      ]
    },
    {
      "cell_type": "code",
      "source": [
        "import pandas as pd\n",
        "import numpy as np\n",
        "weight=[55,60,65,70,75,80,85]\n",
        "frequency=[8,20,25,18,12,10,7]\n",
        "df=pd.DataFrame({'data':weight,'Frequency':frequency})\n",
        "expended_data=np.repeat(df['data'],df['Frequency'])\n",
        "median=np.median(expended_data)\n",
        "print(median)"
      ],
      "metadata": {
        "colab": {
          "base_uri": "https://localhost:8080/"
        },
        "id": "C2dWNB-JYmFy",
        "outputId": "1d4b1031-1899-47ac-a823-53e5ba481789"
      },
      "execution_count": 1,
      "outputs": [
        {
          "output_type": "stream",
          "name": "stdout",
          "text": [
            "65.0\n"
          ]
        }
      ]
    }
  ]
}