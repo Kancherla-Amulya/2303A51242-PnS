{
  "nbformat": 4,
  "nbformat_minor": 0,
  "metadata": {
    "colab": {
      "provenance": [],
      "authorship_tag": "ABX9TyPfa039i4ZYdlK0BJkK5cc6",
      "include_colab_link": true
    },
    "kernelspec": {
      "name": "python3",
      "display_name": "Python 3"
    },
    "language_info": {
      "name": "python"
    }
  },
  "cells": [
    {
      "cell_type": "markdown",
      "metadata": {
        "id": "view-in-github",
        "colab_type": "text"
      },
      "source": [
        "<a href=\"https://colab.research.google.com/github/Kancherla-Amulya/2303A51242-PnS/blob/main/lab_3.ipynb\" target=\"_parent\"><img src=\"https://colab.research.google.com/assets/colab-badge.svg\" alt=\"Open In Colab\"/></a>"
      ]
    },
    {
      "cell_type": "markdown",
      "source": [
        "Question 1: Ungrouped Data\n",
        "Given the ungrouped dataset below, calculate the median and mode:\n",
        "Dataset: [12, 45, 67, 23, 45, 89, 45, 12, 33, 67, 67, 78, 45, 23, 23, 56, 89, 45, 33, 45]\n",
        "Tasks:\n",
        "1. Compute the median and mode using numpy.\n",
        "2. Compute the mode using pandas."
      ],
      "metadata": {
        "id": "xK0h2ZTS7or3"
      }
    },
    {
      "cell_type": "code",
      "execution_count": 1,
      "metadata": {
        "colab": {
          "base_uri": "https://localhost:8080/"
        },
        "id": "NZZy4EGp7ljE",
        "outputId": "67c19a0d-68e9-44a0-fb44-77ebe1394b25"
      },
      "outputs": [
        {
          "output_type": "stream",
          "name": "stdout",
          "text": [
            "Median using numpy: 45.0\n"
          ]
        }
      ],
      "source": [
        "import numpy as np\n",
        "import pandas as pd\n",
        "data=[12, 45, 67, 23, 45, 89, 45, 12, 33, 67, 67, 78, 45, 23, 23, 56, 89, 45, 33, 45]\n",
        "median_numpy=np.median(data)\n",
        "print(\"Median using numpy:\",median_numpy)"
      ]
    },
    {
      "cell_type": "code",
      "source": [
        "data=[12, 45, 67, 23, 45, 89, 45, 12, 33, 67, 67, 78, 45, 23, 23, 56, 89, 45, 33, 45]\n",
        "mode_numpy=np.bincount(data).argmax()\n",
        "print(\"Mode using numpy:\",mode_numpy)"
      ],
      "metadata": {
        "colab": {
          "base_uri": "https://localhost:8080/"
        },
        "id": "X-6VXmK89-sD",
        "outputId": "ac3c945e-be54-466a-9bec-99c0afd1daa5"
      },
      "execution_count": 2,
      "outputs": [
        {
          "output_type": "stream",
          "name": "stdout",
          "text": [
            "Mode using numpy: 45\n"
          ]
        }
      ]
    },
    {
      "cell_type": "code",
      "source": [
        "mode_pandas = pd.Series(data).mode()[0]\n",
        "print(\"Mode using pandas:\",mode_pandas)"
      ],
      "metadata": {
        "colab": {
          "base_uri": "https://localhost:8080/"
        },
        "id": "CUwwLZJU_TT_",
        "outputId": "372b6932-272c-4e43-9418-f9f2cf0e22f6"
      },
      "execution_count": 3,
      "outputs": [
        {
          "output_type": "stream",
          "name": "stdout",
          "text": [
            "Mode using pandas: 45\n"
          ]
        }
      ]
    },
    {
      "cell_type": "markdown",
      "source": [
        "Question 2: Grouped Data\n",
        "The following data shows the frequency of scores in a test:\n",
        "Score Frequency\n",
        "10 5\n",
        "20 8\n",
        "30 12\n",
        "40 15\n",
        "50 7\n",
        "Tasks:\n",
        "1. Compute the median and mode using numpy.\n",
        "2. Compute the mode using pandas"
      ],
      "metadata": {
        "id": "Gos8bwnm_dIO"
      }
    },
    {
      "cell_type": "code",
      "source": [
        "Score=[10,20,30,40,50]\n",
        "Frequency=[5,8,12,15,7]"
      ],
      "metadata": {
        "id": "5sZzJNzVAxCk"
      },
      "execution_count": 9,
      "outputs": []
    },
    {
      "cell_type": "code",
      "source": [
        "df = pd.DataFrame({'Score': Score, 'Frequency': Frequency})\n",
        "median = np.median(df['Score'])\n",
        "print(\"median using numpy\",median)"
      ],
      "metadata": {
        "colab": {
          "base_uri": "https://localhost:8080/"
        },
        "id": "P7XTKyJbAfem",
        "outputId": "553bcd61-364a-45e6-e954-456f64e32789"
      },
      "execution_count": 6,
      "outputs": [
        {
          "output_type": "stream",
          "name": "stdout",
          "text": [
            "median using numpy 30.0\n"
          ]
        }
      ]
    },
    {
      "cell_type": "code",
      "source": [
        "mode = df['Score'].mode()[0]\n",
        "print(\"mode using numpy\",mode)"
      ],
      "metadata": {
        "colab": {
          "base_uri": "https://localhost:8080/"
        },
        "id": "U1jtVV2JAmLI",
        "outputId": "a5e42060-bc16-4a1b-a76c-b4d07570e668"
      },
      "execution_count": 7,
      "outputs": [
        {
          "output_type": "stream",
          "name": "stdout",
          "text": [
            "mode using numpy 10\n"
          ]
        }
      ]
    },
    {
      "cell_type": "markdown",
      "source": [
        "Question 3: Grouped Data\n",
        "The following data represents a frequency distribution with class intervals:\n",
        "Class Interval Frequency\n",
        "0 − 10 4\n",
        "10 − 20 6\n",
        "20 − 30 10\n",
        "30 − 40 8\n",
        "40 − 50 2\n",
        "1\n",
        "Tasks:\n",
        "1. Use the class intervals and frequencies to compute the median and mode.\n",
        "2. Approximate the median and mode using formulas for grouped data."
      ],
      "metadata": {
        "id": "wsZ2dVsSEUIK"
      }
    },
    {
      "cell_type": "code",
      "source": [
        "import pandas as pd\n",
        "import numpy as np\n",
        "\n",
        "class_intervals = [(0, 10), (10,20), (20,30), (30,40),(40,50)]\n",
        "frequencies = [4,6,10,8,2]\n",
        "df = pd.DataFrame({'Class': class_intervals, 'Frequency':frequencies})\n",
        "df['Cumulative Frequency'] = df['Frequency'].cumsum()\n",
        "\n",
        "median = np.median(df['Class'])\n",
        "\n",
        "mode = df['Class'].mode()[0]\n",
        "mode = df['Class'].mode()[0]\n",
        "print(f\"Median: {median}\")\n",
        "print(f\"Mode: {mode}\")"
      ],
      "metadata": {
        "colab": {
          "base_uri": "https://localhost:8080/"
        },
        "id": "xtyyREX5EVo5",
        "outputId": "35892dce-321e-49e8-abdc-653f9ed4bc47"
      },
      "execution_count": 11,
      "outputs": [
        {
          "output_type": "stream",
          "name": "stdout",
          "text": [
            "Median: [20. 30.]\n",
            "Mode: (0, 10)\n"
          ]
        }
      ]
    }
  ]
}